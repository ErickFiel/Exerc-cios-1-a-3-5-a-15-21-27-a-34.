{
 "cells": [
  {
   "cell_type": "markdown",
   "metadata": {},
   "source": [
    "# Exercícios: 1 a 3, 5 a 15, 21, 27 a 34. \n",
    "**1) Um computador possui uma memória principal com capacidade para\n",
    "armazenar palavras de 16 bits em cada uma de suas N células, e o seu\n",
    "barramento de endereços tem 12 bits de tamanho. Sabendo-se que em cada\n",
    "célula pode-se armazenar o valor exato de uma palavra, quantos bytes poderão\n",
    "ser armazenados nessa memória?**"
   ]
  },
  {
   "cell_type": "code",
   "execution_count": 1,
   "metadata": {},
   "outputs": [
    {
     "name": "stdout",
     "output_type": "stream",
     "text": [
      "Poderão ser armazenados nessa memória 8192.0 ou 8K bytes\n"
     ]
    }
   ],
   "source": [
    "#Analizando a questão temos:\n",
    "#Palavras de 16 bits\n",
    "#BE tem 12 bits de tamanho\n",
    "#Cada célula pode-se armazenar o valor exato de uma palavra\n",
    "import math\n",
    "Palavra= 16\n",
    "BE= 12\n",
    "E= BE\n",
    "M= Palavra\n",
    "Bytes= Palavra/8\n",
    "N= 2**E\n",
    "MP= N*Bytes\n",
    "print(\"Poderão ser armazenados nessa memória\",MP,\"ou 8K bytes\")"
   ]
  },
  {
   "cell_type": "markdown",
   "metadata": {},
   "source": [
    "**2) O que você entende por acesso à memória? Caracterize o tempo de acesso nos diversos tipos de memória.**\n",
    "\n",
    "**Resposta:** O acesso aos dados armazenados em uma memória. O tempo de acesso é o tempo\n",
    "que a memória gasta para colocar uma informação na barra de dados após uma\n",
    "determinada posição ter sido endereçada."
   ]
  },
  {
   "cell_type": "markdown",
   "metadata": {},
   "source": [
    "**3) Quais são as possíveis operações que podem ser realizadas em uma memória?**\n",
    "\n",
    "**Resposta:** São duas, a operação de escrita, que é a ação de guardar um elemento (ou um grupo\n",
    "de elementos), e a operação de leitura que é realizada para a consecução desta ação\n",
    "de armazenamento."
   ]
  },
  {
   "cell_type": "markdown",
   "metadata": {},
   "source": [
    "**5) Qual é a diferença, em termos de endereço, conteúdo e total de bits, entre as\n",
    "seguintes organizações de MP:**\n",
    "\n",
    "**a) memória A: 32K célula de 8 bits cada;**"
   ]
  },
  {
   "cell_type": "code",
   "execution_count": 2,
   "metadata": {},
   "outputs": [
    {
     "name": "stdout",
     "output_type": "stream",
     "text": [
      "O endereço é de 15.0 bits, o conteúdo é de 8 e o total de bits é de 262144 ou 256K bits\n"
     ]
    }
   ],
   "source": [
    "#Analizando a questão temos:\n",
    "#Célula 32K= 2^5.2^10= 2^15\n",
    "#Cada célula de 8 bits\n",
    "import math\n",
    "N= 2**15\n",
    "M= 8\n",
    "E= math.log2(N)\n",
    "Conteúdo= 8\n",
    "T= N*M\n",
    "print(\"O endereço é de\",E,\"bits, o conteúdo é de\",Conteúdo,\"e o total de bits é de\",T,\"ou 256K bits\")"
   ]
  },
  {
   "cell_type": "markdown",
   "metadata": {},
   "source": [
    "**b) memória B: 16K célula de 16 bit cada; e:**"
   ]
  },
  {
   "cell_type": "code",
   "execution_count": 3,
   "metadata": {},
   "outputs": [
    {
     "name": "stdout",
     "output_type": "stream",
     "text": [
      "O endereço é de 14.0 bits, o conteúdo é de 16 e o total de bits é de 262144 ou 256K bits\n"
     ]
    }
   ],
   "source": [
    "#Analizando a questão temos:\n",
    "#Célula 16K= 2^4.2^10= 2^14\n",
    "#Cada célula de 16 bits\n",
    "import math\n",
    "N= 2**14\n",
    "M= 16\n",
    "E= math.log2(N)\n",
    "Conteúdo= 16\n",
    "T= N*M\n",
    "print(\"O endereço é de\",E,\"bits, o conteúdo é de\",Conteúdo,\"e o total de bits é de\",T,\"ou 256K bits\")"
   ]
  },
  {
   "cell_type": "markdown",
   "metadata": {},
   "source": [
    "**c) memória C: 16k célula de 8 bits cada.**"
   ]
  },
  {
   "cell_type": "code",
   "execution_count": 4,
   "metadata": {},
   "outputs": [
    {
     "name": "stdout",
     "output_type": "stream",
     "text": [
      "O endereço é de 14.0 bits, o conteúdo é de 8 e o total de bits é de 131072 ou 128K bits\n"
     ]
    }
   ],
   "source": [
    "#Analizando a questão temos:\n",
    "#Célula 16K= 2^4.2^10= 2^14\n",
    "#Cada célula de 8 bits\n",
    "import math\n",
    "N= 2**14\n",
    "M= 8\n",
    "E= math.log2(N)\n",
    "Conteúdo= 8\n",
    "T= N*M\n",
    "print(\"O endereço é de\",E,\"bits, o conteúdo é de\",Conteúdo,\"e o total de bits é de\",T,\"ou 128K bits\")"
   ]
  },
  {
   "cell_type": "markdown",
   "metadata": {},
   "source": [
    "**6) Qual a função do registrador de endereços de memória (REM)? E do\n",
    "registrador de dados de memória (RDM)?**\n",
    "\n",
    "**Resposta:** O registrador de endereços de memória (REM) armazena temporariamente o\n",
    "endereço de acesso a uma posição de memória, ao se iniciar uma operação de leitura\n",
    "ou de escrita. O registrador de dados de memória (RDM) armazena temporariamente\n",
    "a informação que está sendo transferida da MP para o processador ou do processador\n",
    "para a MP."
   ]
  },
  {
   "cell_type": "markdown",
   "metadata": {},
   "source": [
    "**7) Descreva os barramentos que interligam processador e MP, indicando função\n",
    "e direção do fluxo de sinais de cada um.**\n",
    "\n",
    "**Resposta:** Barramento de dados- Interliga o RDM a MP, para transferência de informações entre\n",
    "MP e processador. Sua direção do fluxo é bidimensional, ou seja, ora os sinais\n",
    "percorrem o barramento do processador para a MP, ora percorrem o caminho inverso.\n",
    "Barramento de endereços- Interliga o REM (MAR) a MP para transferência dos bits\n",
    "que representam um determinado endereço. Sua direção de fluxo é unidirecional, já\n",
    "que somente o processador aciona a MP para a realização de operações de escrita ou\n",
    "leitura.\n",
    "Barramento de controle- Interliga o processador a MP para passagem de sinais de\n",
    "controle durante uma operação de leitura ou escrita. Sua direção de fluxo é\n",
    "bidirecional, já que o processador pode enviar sinais de controle para a MP, como\n",
    "sinal indicador de que a operação é de leitura ou de escrita, e a MP pode enviar sinais\n",
    "do tipo WAIT, além de uma infinidade de outros sinais."
   ]
  },
  {
   "cell_type": "markdown",
   "metadata": {},
   "source": [
    "**8) Descreva passo a passo uma operação de leitura. Utilize um diagrama\n",
    "esquemático.**\n",
    "\n",
    "1) REM &lt;- de outro registrador do processador\n",
    "\n",
    "1.a) O endereço é colocado no barramento de endereços\n",
    "\n",
    "2) Sinal de leitura no barramento de controle\n",
    "\n",
    "2.a) Decodificação do endereço e localização da célula (controlador de memória)\n",
    "\n",
    "3) RDM &lt;- MP(REM) pelo barramento de dados\n",
    "\n",
    "4) Para outro registrador do processador &lt;- RDM"
   ]
  },
  {
   "cell_type": "markdown",
   "metadata": {},
   "source": [
    "**9) Faça o mesmo para uma operação de escrita.**\n",
    "\n",
    "1) (REM) &lt;- (outro registrador)\n",
    "\n",
    "1.a) O endereço é colocado no barramento de endereços\n",
    "\n",
    "2) (RDM) &lt;- (outro registrador)\n",
    "\n",
    "3) Sinal de escrita\n",
    "\n",
    "4) (MP(REM) &lt;- (RDM)"
   ]
  },
  {
   "cell_type": "markdown",
   "metadata": {},
   "source": [
    "**10) Um computador possui um RDM com 16 bits de tamanho e um REM com\n",
    "capacidade para armazenar números com 20 bits. sabe-se que a célula desse\n",
    "computador armazena dados com 8 bits de tamanho e que ele possui uma\n",
    "quantidade N de células, igual à capacidade máxima de armazenamento.\n",
    "Pergunta-se:**\n",
    "\n",
    "**a) Qual é o tamanho do barramento de endereço?**"
   ]
  },
  {
   "cell_type": "code",
   "execution_count": 8,
   "metadata": {},
   "outputs": [
    {
     "name": "stdout",
     "output_type": "stream",
     "text": [
      "O tamanho do barramento de endereço é de 20 bits\n"
     ]
    }
   ],
   "source": [
    "#Analizando a questão temos:\n",
    "#RDM com 16 bits\n",
    "#REM com capacidade para armazenar números com 20 bits\n",
    "#A célula desse computador armazena dados com 8 bits de tamanho\n",
    "#A quantidade N de células é igual à capacidade máxima de armazenamento\n",
    "REM= 20\n",
    "E= REM\n",
    "BE= E\n",
    "print(\"O tamanho do barramento de endereço é de\",BE,\"bits\")"
   ]
  },
  {
   "cell_type": "markdown",
   "metadata": {},
   "source": [
    "**b) Quantas células de memória são lidas em uma única operação de leitura?**"
   ]
  },
  {
   "cell_type": "code",
   "execution_count": 6,
   "metadata": {},
   "outputs": [
    {
     "name": "stdout",
     "output_type": "stream",
     "text": [
      "São lidas 2.0 células\n"
     ]
    }
   ],
   "source": [
    "#Analizando a questão temos:\n",
    "#RDM com 16 bits\n",
    "#REM com capacidade para armazenar números com 20 bits\n",
    "#A célula desse computador armazena dados com 8 bits de tamanho\n",
    "#A quantidade N de células é igual à capacidade máxima de armazenamento\n",
    "RDM= 16\n",
    "M= 8\n",
    "Células_lidas= RDM/M\n",
    "print(\"São lidas\",Células_lidas,\"células\")"
   ]
  },
  {
   "cell_type": "markdown",
   "metadata": {},
   "source": [
    "**c) Quanto bits tem a memória principal?**"
   ]
  },
  {
   "cell_type": "code",
   "execution_count": 7,
   "metadata": {},
   "outputs": [
    {
     "name": "stdout",
     "output_type": "stream",
     "text": [
      "A memória principal tem 8388608 ou 8M bits\n"
     ]
    }
   ],
   "source": [
    "#Analizando a questão temos:\n",
    "#RDM com 16 bits\n",
    "#REM com capacidade para armazenar números com 20 bits\n",
    "#A célula desse computador armazena dados com 8 bits de tamanho\n",
    "#A quantidade N de células é igual à capacidade máxima de armazenamento\n",
    "E= 20\n",
    "M= 8\n",
    "N=2**E\n",
    "MP= N*M\n",
    "print(\"A memória principal tem\",MP,\"ou 8M bits\")"
   ]
  },
  {
   "cell_type": "markdown",
   "metadata": {},
   "source": [
    "**11) Um microcomputador possui uma capacidade máxima de memória principal\n",
    "(RAM) com 32K células, cada uma capaz de armazenar uma palavra de 8 bits.\n",
    "Pergunta-se:**\n",
    "\n",
    "**a) Qual é o maior endereço, em decimal, dessa memória?**"
   ]
  },
  {
   "cell_type": "code",
   "execution_count": 3,
   "metadata": {},
   "outputs": [
    {
     "name": "stdout",
     "output_type": "stream",
     "text": [
      "Como temos 15.0 bits de endereço o maior endereço é 111111111111111 que em decimal é 32767\n"
     ]
    }
   ],
   "source": [
    "#Analizando a questão temos:\n",
    "#MP com 32K células = 2^5.2^10= 2^15\n",
    "#Palavra de 8 bits\n",
    "import math\n",
    "N= 2**15\n",
    "E= math.log2(N)\n",
    "print(\"Como temos\",E,\"bits de endereço o maior endereço é 111111111111111 que em decimal é 32767\")"
   ]
  },
  {
   "cell_type": "markdown",
   "metadata": {},
   "source": [
    "**b) Qual é o tamanho do barramento de endereços desse sistema?**"
   ]
  },
  {
   "cell_type": "code",
   "execution_count": 2,
   "metadata": {},
   "outputs": [
    {
     "name": "stdout",
     "output_type": "stream",
     "text": [
      "O tamanho do barramento de endereços é de 15.0 bits\n"
     ]
    }
   ],
   "source": [
    "#Analizando a questão temos:\n",
    "#MP com 32K células = 2^5.2^10= 2^15\n",
    "#Palavra de 8 bits\n",
    "import math\n",
    "N= 2**15\n",
    "E= math.log2(N)\n",
    "BE= E\n",
    "print(\"O tamanho do barramento de endereços é de\",BE,\"bits\")"
   ]
  },
  {
   "cell_type": "markdown",
   "metadata": {},
   "source": [
    "**c) Quantos bits podem ser armazenados no RDM e no REM?**"
   ]
  },
  {
   "cell_type": "code",
   "execution_count": 4,
   "metadata": {},
   "outputs": [
    {
     "name": "stdout",
     "output_type": "stream",
     "text": [
      "No RDM podem ser armazenados 8 bits e no REM 15.0 bits\n"
     ]
    }
   ],
   "source": [
    "#Analizando a questão temos:\n",
    "#MP com 32K células = 2^5.2^10= 2^15\n",
    "#Palavra de 8 bits\n",
    "import math\n",
    "N= 2**15\n",
    "M= 8\n",
    "E= math.log2(N)\n",
    "BE= E\n",
    "BD= M\n",
    "REM= BE\n",
    "RDM= BD\n",
    "print(\"No RDM podem ser armazenados\",RDM,\"bits e no REM\",REM,\"bits\")"
   ]
  },
  {
   "cell_type": "markdown",
   "metadata": {},
   "source": [
    "**d) Qual é o total máximo de bits que pode existir nesta memória?**"
   ]
  },
  {
   "cell_type": "code",
   "execution_count": 5,
   "metadata": {},
   "outputs": [
    {
     "name": "stdout",
     "output_type": "stream",
     "text": [
      "O total máximo de bits nesta memória é de 262144 ou 256K bits\n"
     ]
    }
   ],
   "source": [
    "#Analizando a questão temos:\n",
    "#MP com 32K células = 2^5.2^10= 2^15\n",
    "#Palavra de 8 bits\n",
    "import math\n",
    "N= 2**15\n",
    "M= 8\n",
    "T= N*M\n",
    "print(\"O total máximo de bits nesta memória é de\",T,\"ou 256K bits\")"
   ]
  },
  {
   "cell_type": "markdown",
   "metadata": {},
   "source": [
    "**12) Considere uma célula de uma MP cujo endereço é, em hexadecimal, 2C81 e\n",
    "que tem armazenado em seu conteúdo um valor igual a, em hexadecimal, F5A.\n",
    "Sabe-se que, neste sistema as células têm o mesmo tamanho da palavra e que\n",
    "em cada acesso é lido o valor de uma célula. Pergunta-se:**\n",
    "\n",
    "**a) Qual deve ser o tamanho do REM e do RDM nesse sistema?**"
   ]
  },
  {
   "cell_type": "code",
   "execution_count": 15,
   "metadata": {},
   "outputs": [
    {
     "name": "stdout",
     "output_type": "stream",
     "text": [
      "O tamanho do REM é de 16 bits e o do RDM é de 12 bits\n"
     ]
    }
   ],
   "source": [
    "#Analizando a questão temos:\n",
    "#Uma MP cujo endereço em hexadecimal é 2C81\n",
    "#Seu conteúdo tem um valor em hexadecimal de F5A\n",
    "#Células têm o mesmo tamanho da palavra\n",
    "#Em cada acesso é lido o valor de uma célula\n",
    "Endereço_em_hexadecimal= 4*4\n",
    "Valor_do_conteúdo= 3*4\n",
    "E= Endereço_em_hexadecimal\n",
    "REM= E\n",
    "M= Valor_do_conteúdo\n",
    "RDM= M\n",
    "print(\"O tamanho do REM é de\",REM,\"bits e o do RDM é de\",RDM,\"bits\")"
   ]
  },
  {
   "cell_type": "markdown",
   "metadata": {},
   "source": [
    "**b) Qual deve ser a máxima quantidade de bits que podem ser implementados\n",
    "nessa memória?**"
   ]
  },
  {
   "cell_type": "code",
   "execution_count": 17,
   "metadata": {},
   "outputs": [
    {
     "name": "stdout",
     "output_type": "stream",
     "text": [
      "A máxima quantidade de bits que podem ser implementados nessa memória é de 786432  ou 768K bits\n"
     ]
    }
   ],
   "source": [
    "#Analizando a questão temos:\n",
    "#Uma MP cujo endereço em hexadecimal é 2C81\n",
    "#Seu conteúdo tem um valor em hexadecimal de F5A\n",
    "#Células têm o mesmo tamanho da palavra\n",
    "#Em cada acesso é lido o valor de uma célula\n",
    "Endereço_em_hexadecimal= 4*4\n",
    "Valor_do_conteúdo= 3*4\n",
    "E= Endereço_em_hexadecimal\n",
    "N=2**E\n",
    "M= Valor_do_conteúdo\n",
    "T= N*M\n",
    "print(\"A máxima quantidade de bits que podem ser implementados nessa memória é de\",T,\" ou 768K bits\")"
   ]
  },
  {
   "cell_type": "markdown",
   "metadata": {},
   "source": [
    "**13) Considere uma memória com capacidade de armazenamento de 64K bytes;\n",
    "cada célula pode armazenar 1 byte de informação e cada caractere é codificado\n",
    "com 8 bits. Resolveu-se armazenar na memória deste sistema um conjunto de\n",
    "caracteres do seguinte modo. A partir do endereço (hexadecimal) 27FA, foram\n",
    "escritos sucessivamente grupos de 128 caracteres iguais, iniciando pelo grupo\n",
    "de As, seguido do grupo de Bs e assim por diante, qual deverá ser o endereço\n",
    "correspondente ao local onde está armazenado o 1º J?**"
   ]
  },
  {
   "cell_type": "code",
   "execution_count": 5,
   "metadata": {},
   "outputs": [
    {
     "name": "stdout",
     "output_type": "stream",
     "text": [
      "O endereço que corresponde ao 1º J é 11386 em decimal ou 2C7A em hexadecimal\n"
     ]
    }
   ],
   "source": [
    "#Analizando a questão temos:\n",
    "#Memória com capacidade de armazenamento de 64K bytes= 2^6.2^10= 2^16\n",
    "#Cada célula pode armazenar 1 byte\n",
    "#Cada caractere é codificado com 8 bits\n",
    "#Endereço hexadecimal: 27FA\n",
    "#Grupos de 128 caracteres iguais\n",
    "#De A até J temos 10 letras\n",
    "#27FA em decimal é 10234\n",
    "N= 2**16\n",
    "M= 8 \n",
    "Endereço_hexadecimal= 4*4\n",
    "E= Endereço_hexadecimal\n",
    "Hexadecimal_em_decimal= 10234\n",
    "Primeiro_A= Hexadecimal_em_decimal\n",
    "A_até_I= 9*128 \n",
    "Primeiro_J= Primeiro_A+A_até_I\n",
    "print(\"O endereço que corresponde ao 1º J é\",Primeiro_J,\"em decimal ou 2C7A em hexadecimal\")"
   ]
  },
  {
   "cell_type": "markdown",
   "metadata": {},
   "source": [
    "**14) O custo das memórias SRAM é maior que o das memórias DRAM. No\n",
    "entanto, o processo de conexão das memórias DRAM é mais complexo que o\n",
    "das SRAM e, em consequência, o preço da interface das DRAM é bem maior que\n",
    "o da SRAM. Supondo que uma interface de DRAM custe RS 5,00, uma interface\n",
    "de SRAM custe RS 1,00, o preço por bit de uma SRAM é de RS0,00002 e o de uma\n",
    "DRAM é de RS 0,00001, calcule quantos bits deve ter uma memória dinâmica\n",
    "(DRM) para que o conjunto seja mais barato.**"
   ]
  },
  {
   "cell_type": "code",
   "execution_count": 12,
   "metadata": {},
   "outputs": [
    {
     "name": "stdout",
     "output_type": "stream",
     "text": [
      "A DRAM tem 399999.99999999994 bits ou aproximadamente 400.000 bits.\n"
     ]
    }
   ],
   "source": [
    "#Analizando a questão temos:\n",
    "#O custo das memórias SRAM é maior que o das memórias DRAM\n",
    "#o preço da interface das DRAM é bem maior que o da SRAM\n",
    "#DRAM custe R$ 5,00, uma interface de SRAM custe R$ 1,00\n",
    "#O preço por bit de uma SRAM é de R$0,00002 e o de uma DRAM é de R$0,00001\n",
    "DRAM= 5\n",
    "SRAM= 1\n",
    "Preço_por_bit_de_uma_SRAM= 2/100000\n",
    "Preço_por_bit_de_uma_DRAM= 1/100000\n",
    "Y= DRAM-SRAM\n",
    "Z= Preço_por_bit_de_uma_SRAM-Preço_por_bit_de_uma_DRAM\n",
    "X= Y/Z\n",
    "print(\"A DRAM tem\",X,\"bits ou aproximadamente 400.000 bits.\")"
   ]
  },
  {
   "cell_type": "markdown",
   "metadata": {},
   "source": [
    "**15) Compare uma memória principal e uma memória cache em termos de tempo\n",
    "de acesso, capacidade e temporariedade de armazenamento de dados.**\n",
    "\n",
    "**Resposta:** Em relação ao tempo de acesso, a memória principal possui baixa velocidade e por\n",
    "isso se situa abaixo das memórias cache, já que atualmente a memória principal\n",
    "possui tempo de acesso entre 50 e 80 ns, enquanto a memória cache possui um\n",
    "tempo de acesso entre 5 e 20 ns. Na questão de capacidade, a memória principal é\n",
    "sempre bem superior à das memórias cache, e com o surgimento das arquiteturas de\n",
    "64 bits os processadores poderão gerar endereços de 64 bits de largura, possibilitando\n",
    "assim gerar um espaço de endereçamento de memória de 16 EB (16 exabytes),\n",
    "enquanto os valores típicos de memória cache oscilam entre 32 e 256KB e ate 4MB.\n",
    "Já no requisito de temporariedade de armazenamento de dados, a transitoriedade com\n",
    "que as informações permanecem armazenadas na memória principal é, em geral,\n",
    "mais duradoura que na memória cache."
   ]
  },
  {
   "cell_type": "markdown",
   "metadata": {},
   "source": [
    "**21) Considere um sistema constituído de um processador - memória cache -\n",
    "memória principal, no qual o tempo de acesso processador/memória cache é de\n",
    "8 ns e o tempo de acesso memória cache/memória principal é de 70 ns.\n",
    "Observando-se um intervalo correspondente a 100 acessos consecutivos do\n",
    "processador e que a eficiência da memória cache de 96%. Calcule o tempo\n",
    "médio de acesso do sistema.**"
   ]
  },
  {
   "cell_type": "code",
   "execution_count": 20,
   "metadata": {},
   "outputs": [
    {
     "name": "stdout",
     "output_type": "stream",
     "text": [
      "O tempo médio de acesso do sistema é de 10.8 ns\n"
     ]
    }
   ],
   "source": [
    "#Analizando a questão temos:\n",
    "#tempo de acesso processador/memória cache é de 8 ns\n",
    "#tempo de acesso memória cache/memória principal é de 70 ns\n",
    "#100 acessos e eficiência de 96%\n",
    "Eficiência= 96\n",
    "Tempo_de_acesso_P_MC= 8\n",
    "Tempo_de_acesso_MC_MP= 70\n",
    "Acessos= 100\n",
    "X= Eficiência*Tempo_de_acesso_P_MC\n",
    "Y= Acessos-Eficiência\n",
    "Z= Tempo_de_acesso_MC_MP+Tempo_de_acesso_P_MC\n",
    "Tempo_total_de_acesso= X+Y*Z\n",
    "Média= Tempo_total_de_acesso/Acessos\n",
    "print(\"O tempo médio de acesso do sistema é de\",Média,\"ns\")"
   ]
  },
  {
   "cell_type": "markdown",
   "metadata": {},
   "source": [
    "**27) Quantos bits são requeridos para se endereçar células em uma memória de\n",
    "128G?**\n"
   ]
  },
  {
   "cell_type": "code",
   "execution_count": 21,
   "metadata": {},
   "outputs": [
    {
     "name": "stdout",
     "output_type": "stream",
     "text": [
      "São requeridos 37.0 bits\n"
     ]
    }
   ],
   "source": [
    "#Analizando a questão temos:\n",
    "#Memória de 128G= 2^7.2^30= 2^37\n",
    "import math\n",
    "N= 2**37\n",
    "E= math.log2(N)\n",
    "print(\"São requeridos\",E,\"bits\")"
   ]
  },
  {
   "cell_type": "markdown",
   "metadata": {},
   "source": [
    "**28) E quantos bits seriam requeridos se a memória tivesse 32K?**"
   ]
  },
  {
   "cell_type": "code",
   "execution_count": 22,
   "metadata": {},
   "outputs": [
    {
     "name": "stdout",
     "output_type": "stream",
     "text": [
      "São requeridos 15.0 bits\n"
     ]
    }
   ],
   "source": [
    "#Analizando a questão temos:\n",
    "#Memória de 32K= 2^5.2^10= 2^15\n",
    "import math\n",
    "N= 2**15\n",
    "E= math.log2(N)\n",
    "print(\"São requeridos\",E,\"bits\")"
   ]
  },
  {
   "cell_type": "markdown",
   "metadata": {},
   "source": [
    "**29) Quantas posições de memória existem desde o endereço 0400(hexadecimal),\n",
    "inclusive, e o endereço 11FF (hexadecimal)**"
   ]
  },
  {
   "cell_type": "code",
   "execution_count": 23,
   "metadata": {},
   "outputs": [
    {
     "name": "stdout",
     "output_type": "stream",
     "text": [
      "Entre os dois hexadecimais existem 3583 posições\n"
     ]
    }
   ],
   "source": [
    "#Analizando a questão temos:\n",
    "#Posições entre o endereço hexadecimal 0400 e o endereço 11FF\n",
    "#O hexadecimal 0400 em decimal é 1024\n",
    "#O hexadecimal 11FF em decimal é 4607\n",
    "Primeiro_hexadecimal= 1024\n",
    "Segundo_hexadecimal= 4607\n",
    "Posições= Segundo_hexadecimal-Primeiro_hexadecimal\n",
    "print(\"Entre os dois hexadecimais existem\",Posições,\"posições\")"
   ]
  },
  {
   "cell_type": "markdown",
   "metadata": {},
   "source": [
    "**30) De que depende fundamentalmente a determinação da quantidade máxima de posições de memória que um processador consegue endereçar?**\n",
    "\n",
    "**Resposta:** Depende da quantidade de bits que um processador pode endereçar."
   ]
  },
  {
   "cell_type": "markdown",
   "metadata": {},
   "source": [
    "**31) Uma imagem pode ser representada por uma matriz de pontos armazenada\n",
    "na memória de um computador. Cada ponto possui uma indicação de cor\n",
    "associada a ela; essa cor precisa de 4 byte para ser representada. Baseado\n",
    "nessas informações, pede-se:**\n",
    "\n",
    "**a) A quantidade de memória, em bytes, necessária para armazenar uma imagem\n",
    "de 640 X 420 pontos;**"
   ]
  },
  {
   "cell_type": "code",
   "execution_count": 26,
   "metadata": {},
   "outputs": [
    {
     "name": "stdout",
     "output_type": "stream",
     "text": [
      "A quantidade de memória, em bytes, necessária é de 1075200 ou aproximadamente 1,03MB\n"
     ]
    }
   ],
   "source": [
    "#Analizando a questão temos:\n",
    "#Cada ponto possui uma indicação de cor associada a ela\n",
    "#Essa cor precisa de 4 byte para ser representada\n",
    "#Imagem de 640X420 pontos\n",
    "Imagem= 640*420\n",
    "Byte= 4\n",
    "Quantidade_de_memória= Imagem*Byte\n",
    "print(\"A quantidade de memória, em bytes, necessária é de\",Quantidade_de_memória,\"ou aproximadamente 1,03MB\")"
   ]
  },
  {
   "cell_type": "markdown",
   "metadata": {},
   "source": [
    "**b) A quantidade de memória em megabytes. necessária para armazenar 10\n",
    "imagens semelhantes a esta;**"
   ]
  },
  {
   "cell_type": "code",
   "execution_count": 28,
   "metadata": {},
   "outputs": [
    {
     "name": "stdout",
     "output_type": "stream",
     "text": [
      "A quantidade de memória em megabytes. necessária para armazenar 10 imagens é de aproximadamente 10.3 MB\n"
     ]
    }
   ],
   "source": [
    "#Analizando a questão temos:\n",
    "#Cada ponto possui uma indicação de cor associada a ela\n",
    "#Essa cor precisa de 4 byte para ser representada\n",
    "#Imagem de 640X420 pontos\n",
    "#10 imagens\n",
    "#1 imagem é 1,03MB\n",
    "Memória= 103/100\n",
    "Imagens= 10\n",
    "Quantidade_de_memória= Memória*Imagens\n",
    "print(\"A quantidade de memória em megabytes. necessária para armazenar 10 imagens é de aproximadamente\",Quantidade_de_memória,\"MB\")"
   ]
  },
  {
   "cell_type": "markdown",
   "metadata": {},
   "source": [
    "**c) Quantas imagens como esta poderiam ser armazenadas na memória de um\n",
    "computador com 128MB de memória RAM?**"
   ]
  },
  {
   "cell_type": "code",
   "execution_count": 36,
   "metadata": {},
   "outputs": [
    {
     "name": "stdout",
     "output_type": "stream",
     "text": [
      "A memória RAM pode armazenar 124.27184466019418 bytes de imagens, então podem ser colocadas 124 imagens em 128MB de memória RAM\n"
     ]
    }
   ],
   "source": [
    "#Analizando a questão temos:\n",
    "#Cada ponto possui uma indicação de cor associada a ela\n",
    "#Essa cor precisa de 4 byte para ser representada\n",
    "#Imagem de 640X420 pontos\n",
    "#Quantas imagens podeme ser armazenadas em um computador com 128MB de memória RAM\n",
    "Imagem= 103/100\n",
    "Memória_RAM= 128\n",
    "X=Memória_RAM/Imagem\n",
    "print(\"A memória RAM pode armazenar\",X,\"bytes de imagens, então podem ser colocadas 124 imagens em 128MB de memória RAM\")"
   ]
  },
  {
   "cell_type": "markdown",
   "metadata": {},
   "source": [
    "**32) Quantos bytes podem ser armazenados em uma memória ROM que possua\n",
    "16 linhas de endereçamento e que possua 4 linhas de saída de dados?**"
   ]
  },
  {
   "cell_type": "code",
   "execution_count": 37,
   "metadata": {},
   "outputs": [
    {
     "name": "stdout",
     "output_type": "stream",
     "text": [
      "Podem ser armazenados 32768.0 ou 32K bytes\n"
     ]
    }
   ],
   "source": [
    "#Analizando a questão temos:\n",
    "#Memória ROM com 16 linhas de endereçamento\n",
    "#4 linhas de saída de dados\n",
    "E= 16 \n",
    "N= 2**E\n",
    "M= 4\n",
    "T=N*M\n",
    "Bytes=T/8\n",
    "print(\"Podem ser armazenados\",Bytes,\"ou 32K bytes\")"
   ]
  },
  {
   "cell_type": "markdown",
   "metadata": {},
   "source": [
    "**33) Você considera válida a afirmação \"um computador com mais poder de\n",
    "processamento pode armazenar mais programas\"?**\n",
    "\n",
    "**Resposta:** Essa afirmativa não é válida pois um computador com um poder de processamento\n",
    "maior processa os dados armazenados ou inseridos, para poder armazenar mais\n",
    "programas é necessário o computador ter mais espaço no disco rígido."
   ]
  },
  {
   "cell_type": "markdown",
   "metadata": {},
   "source": [
    "**34) Você considera válida a afirmação \"vale aumentar a capacidade da memória\n",
    "principal para que o acesso aos meios magnéticos (discos rígidos e disquetes)\n",
    "seja mais rápido\"?**\n",
    "\n",
    "**Resposta** Só é válida caso os meios magnéticos possuírem uma alta taxa de transferência, pois\n",
    "assim a capacidade da memória principal faria com que mais dados dos discos fossem\n",
    "lidos em ciclo, aumentando o volume de transferências."
   ]
  }
 ],
 "metadata": {
  "kernelspec": {
   "display_name": "Python 3",
   "language": "python",
   "name": "python3"
  },
  "language_info": {
   "codemirror_mode": {
    "name": "ipython",
    "version": 3
   },
   "file_extension": ".py",
   "mimetype": "text/x-python",
   "name": "python",
   "nbconvert_exporter": "python",
   "pygments_lexer": "ipython3",
   "version": "3.6.13"
  }
 },
 "nbformat": 4,
 "nbformat_minor": 2
}
