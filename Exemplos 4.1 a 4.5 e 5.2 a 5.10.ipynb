{
 "cells": [
  {
   "cell_type": "markdown",
   "metadata": {},
   "source": [
    "# Exemplos 4.1 a 4.5\n",
    "**4.1) Uma memória RAM(MP) tem um espaço máximo de endereçamento de 2K. Cada célula pode armazenar 16 bits. Qual o valor total de bits que podem ser armazenados nesta memória e qual o tamanho de cada endereço?**\n"
   ]
  },
  {
   "cell_type": "code",
   "execution_count": 1,
   "metadata": {},
   "outputs": [
    {
     "name": "stdout",
     "output_type": "stream",
     "text": [
      " A capacidade da Memória Principal é de 32768 ou 32K bits\n",
      " O total de bits do endereço é 11 bits, visto que N= 2^11 bits\n"
     ]
    }
   ],
   "source": [
    "#Analisando a questão temos:\n",
    "#Espaço máximo de endereçamento de 2K= 2.2^10= 2^11 \n",
    "#Cada célula pode armazenar 16 bits\n",
    "N= 2**11 \n",
    "E= 11\n",
    "M= 16\n",
    "T= M * N\n",
    "print(\" A capacidade da Memória Principal é de\",T,\"ou 32K bits\")\n",
    "print(\" O total de bits do endereço é\",E,\"bits, visto que N= 2^11 bits\")\n"
   ]
  },
  {
   "cell_type": "markdown",
   "metadata": {},
   "source": [
    "**4.2) Uma memória RAM(MP) é fabricada com a possibilidade de armazenar um máximo de 256K bits. Cada célula pode armazenar 8 bits. Qual é o tamanho de cada endereço e qual é o total de células que podem ser utilizadas naquela RAM?**"
   ]
  },
  {
   "cell_type": "code",
   "execution_count": 2,
   "metadata": {},
   "outputs": [
    {
     "name": "stdout",
     "output_type": "stream",
     "text": [
      "O total de bits do endereço é de 15.0 bits\n",
      "O total de células da memória principal é de 32768.0 ou 32K células\n"
     ]
    }
   ],
   "source": [
    "#Analisando a questão temos:\n",
    "#MP com a possibilidade de armazenar um máximo de 256K bits= 2^8.2^10= 2^18 bits\n",
    "#Cada célula pode armazenar 8 bits\n",
    "import math\n",
    "T=2**18\n",
    "M= 8\n",
    "N= T/M\n",
    "E= math.log2(N)\n",
    "print(\"O total de bits do endereço é de\",E,\"bits\")\n",
    "print(\"O total de células da memória principal é de\",N,\"ou 32K células\")\n"
   ]
  },
  {
   "cell_type": "markdown",
   "metadata": {},
   "source": [
    "**4.3) Um computador, cuja memória RAM(MP) tem uma capacidade máxima de armazenamento de 2K palavras de 16 bits cada, possui um REM e um RDM. Qual o tamanho desses registradores; qual o valor do maior endereço dessa MP e qual a quantidade total de bits que nela podem ser armazenados?**\n"
   ]
  },
  {
   "cell_type": "code",
   "execution_count": 3,
   "metadata": {},
   "outputs": [
    {
     "name": "stdout",
     "output_type": "stream",
     "text": [
      "O tamanho do registrador REM é igual ao tamanho de E então temos que REM vale 11.0 bits\n",
      "O tamanho de RDM é igual ao tamanho da palavra então temos que RDM vale 16 bits\n",
      "Como temos o BE= 11.0 bits então o valor do maior endereço é 11111111111\n",
      "A capacidade da memória principal é de 32768 ou 32K bits\n"
     ]
    }
   ],
   "source": [
    "#Analisando a questão temos:\n",
    "#MP com uma capacidade máxima de armazenamento de 2K palavras= 2.2^10= 2^11\n",
    "#Palavras de 16 bits cada\n",
    "import math\n",
    "N=2**11\n",
    "E= math.log2(N)\n",
    "M= 16\n",
    "T= M*N\n",
    "print(\"O tamanho do registrador REM é igual ao tamanho de E então temos que REM vale\",E,\"bits\")\n",
    "print(\"O tamanho de RDM é igual ao tamanho da palavra então temos que RDM vale\",M,\"bits\")\n",
    "print(\"Como temos o BE=\",E,\"bits então o valor do maior endereço é 11111111111\")\n",
    "print(\"A capacidade da memória principal é de\",T,\"ou 32K bits\")\n"
   ]
  },
  {
   "cell_type": "markdown",
   "metadata": {},
   "source": [
    "**4.4) Um processador possui um RDM com capacidade de armazenar 32 bits e um REM com capacidade de armazenar 24 bits. Sabendo-se que em cada acesso são lidas duas células da memória RAM(MP) e que o barramento de dados (BD) tem tamanho igual ao da palavra, prgunta-se:**\n",
    "\n",
    "**a) Qual é a capcacidade máxima de endereçamento do microcomputador em questão?**\n",
    "\n",
    "**b) Qual é o total máximo de bits que podem ser armazenados na memória RAM(MP)?**\n",
    "\n",
    "**c) Qual é o tamanho da palavra e de cada célula da máquina?**\n"
   ]
  },
  {
   "cell_type": "code",
   "execution_count": 4,
   "metadata": {},
   "outputs": [
    {
     "name": "stdout",
     "output_type": "stream",
     "text": [
      "a) Como E= 24 temos que N= 16777216 ou 16M bits, então a capacidade máxima de endereçamento é de 16M bits\n",
      "b) O total máximo de bits que podem ser armazenados na MP é de 268435456 ou 256M bits\n",
      "c) Tamanho da palavra é igual ao do BD, e como o tamanho de BD=RDM então temos que a palavra tem tamanho de 32 bits. Em cada acesso são lidas 2 células da MP então o tamanho de cada células é igual a BD/2, assim o tamanho da célula é de 16 bits\n"
     ]
    }
   ],
   "source": [
    "#Analisando a questão temos:\n",
    "#RDM com capacidade de armazenar 32 bits\n",
    "#REM com capacidade de armazenar 24 bits\n",
    "#Cada acesso são lidas 2 células da MP\n",
    "#BD é igual ao tamanho da palavra\n",
    "import math\n",
    "E= 24\n",
    "M= 16\n",
    "N= 2**E\n",
    "T= M*N\n",
    "print(\"a) Como E=\",E,\"temos que N=\",N,\"ou 16M bits, então a capacidade máxima de endereçamento é de 16M bits\")\n",
    "print(\"b) O total máximo de bits que podem ser armazenados na MP é de\",T,\"ou 256M bits\")\n",
    "print(\"c) Tamanho da palavra é igual ao do BD, e como o tamanho de BD=RDM então temos que a palavra tem tamanho de 32 bits. Em cada acesso são lidas 2 células da MP então o tamanho de cada células é igual a BD/2, assim o tamanho da célula é de 16 bits\")"
   ]
  },
  {
   "cell_type": "markdown",
   "metadata": {},
   "source": [
    "**4.5) Um processador possui um BE (barramento de endereços) com capacidade de permitir a transferência de 33 bits de cada vez. Sabe-se que o BD (barramento de dados) permite a trasnferência de quatro palavras em cada acesso e que cada célula da memória RAM(MP) armazena um oitavo (1/8) de cada palavra. Considerando que a memória RAM (MP) pode armazenar um máximo de 64G bits, pergunta-se:**\n",
    "\n",
    "**a) Qual é a quantidade máxima de células que podem ser armazenadas na memória RAM(MP)?**\n",
    "\n",
    "**b) Qual é o tamanho de REM e do BD existentes neste processador?**\n",
    "\n",
    "**c) Qual é o tamanho de cada célula e da palavra desta máquina?**\n"
   ]
  },
  {
   "cell_type": "code",
   "execution_count": 5,
   "metadata": {},
   "outputs": [
    {
     "name": "stdout",
     "output_type": "stream",
     "text": [
      "a) A quantidade máxima de células que podem ser armazenadas na MP é de 8589934592 ou 8G células\n",
      "b) Como REM=BE= 33 bits então tamanho de REM é de 33 bits. Como a palavra é de 64.0 bits e BD permite a trasnferência de quatro palavras, temos que BD= 256.0 bits\n",
      "c) O tamanho de cada célula é igual a 8.0 bits e o tamanho de cada palavra é de 64.0 bits\n"
     ]
    }
   ],
   "source": [
    "#Analisando a questão temos:\n",
    "#BE com capacidade de permitir a transferência de 33 bits \n",
    "#BD permite a trasnferência de quatro palavras \n",
    "#cada célula da  MP armazena 1/8 de cada palavra\n",
    "#MP pode armazenar um máximo de 64G bits= 2^6.2^30= 2^36 bits\n",
    "T= 2**36 \n",
    "BE= 33\n",
    "E= BE\n",
    "N= 2**E\n",
    "M= T/N\n",
    "P= M*8\n",
    "BD= P*4\n",
    "print(\"a) A quantidade máxima de células que podem ser armazenadas na MP é de\",N,\"ou 8G células\")\n",
    "print(\"b) Como REM=BE=\",BE,\"bits então tamanho de REM é de\",BE,\"bits. Como a palavra é de\",P,\"bits e BD permite a trasnferência de quatro palavras, temos que BD=\",BD,\"bits\")\n",
    "print(\"c) O tamanho de cada célula é igual a\",M,\"bits e o tamanho de cada palavra é de\",P,\"bits\")"
   ]
  },
  {
   "cell_type": "markdown",
   "metadata": {},
   "source": [
    "# Exemplos 5.2 a 5.10\n",
    "**5.2) Cálculo da quantidade de bits necessários para uma determinada memória\n",
    "cache. Considere um sistema de computação com uma memória cache de 32KB\n",
    "de capacidade, constituída de linhas com 8 bytes de largura. A MP possui uma\n",
    "capacidade de 16MB.**\n"
   ]
  },
  {
   "cell_type": "code",
   "execution_count": 6,
   "metadata": {},
   "outputs": [
    {
     "name": "stdout",
     "output_type": "stream",
     "text": [
      "O total de bits da cache é de 299008.0 ou 292K bits\n"
     ]
    }
   ],
   "source": [
    "#Analisando a questão temos:\n",
    "#MC com capcacidade de 32KB= 2^5.2^10= 2^15 \n",
    "#Largura de 8 bytes\n",
    "#MP com capacidade de 16MB= 2^4.2^20= 2^24ou 292K bits\"\n",
    "import math\n",
    "MC= 2**15 \n",
    "MP= 2**24\n",
    "Largura= 8\n",
    "Número_de_linhas= MC/Largura\n",
    "Número_de_blocos= MP/Largura\n",
    "Blocos_por_linha= Número_de_blocos/Número_de_linhas\n",
    "Tag= math.log2(Blocos_por_linha)\n",
    "Td= Número_de_linhas*Largura*8\n",
    "Tt= Número_de_linhas*Tag\n",
    "Total_de_bits_da_cache= Td+Tt\n",
    "print(\"O total de bits da cache é de\",Total_de_bits_da_cache,\"ou 292K bits\")\n"
   ]
  },
  {
   "cell_type": "markdown",
   "metadata": {},
   "source": [
    "**5.3) Cálculo de formato de endereço para memórias cache com mapeamento\n",
    "direto. Considere um MP com 64MB de capacidade associada a uma memoria\n",
    "cache que possui 2K linhas, cada uma com largura de 16 bytes. Determine o\n",
    "formato do endereço para ser interpretado pelo sistema de controle da cache.**"
   ]
  },
  {
   "cell_type": "code",
   "execution_count": 7,
   "metadata": {},
   "outputs": [
    {
     "name": "stdout",
     "output_type": "stream",
     "text": [
      "O formato do endereço será organizado em Tag= 11.0 bits, Linha= 11.0 bits e Byte= 4.0 bits.\n"
     ]
    }
   ],
   "source": [
    "#Analisando a questão temos:\n",
    "#MP com capacidade de 64MB= 2^6.2^20= 2^26\n",
    "#2K linhas= 2.2^10= 2^11 linhas\n",
    "#Largura de 16 bytes\n",
    "#O formato do endereço que será interpretado é TAG|LINHA|BYTE\n",
    "import math\n",
    "MP= 2**26\n",
    "Número_de_linhas= 2**11\n",
    "Largura= 16\n",
    "Número_de_blocos= MP/Largura\n",
    "Blocos_por_linhas= Número_de_blocos/Número_de_linhas\n",
    "Tag= math.log2(Blocos_por_linhas)\n",
    "Linha= math.log2(Número_de_linhas)\n",
    "Byte= math.log2(Largura)\n",
    "print(\"O formato do endereço será organizado em Tag=\",Tag,\"bits, Linha=\",Linha,\"bits e Byte=\",Byte,\"bits.\")\n"
   ]
  },
  {
   "cell_type": "markdown",
   "metadata": {},
   "source": [
    "**5.4) Seja um MP constituída de blocos com largura de 32 bytes, associada a uma\n",
    "cache com 128KB. Em dado instante o processador realiza um acesso,\n",
    "colocando o seguinte endereço (expresso em algarismos hexadecimais):\n",
    "3FC92B6. Determine qual deverá ser o valor binário da linha que será localizada\n",
    "pelo sistema de controle da cache.**"
   ]
  },
  {
   "cell_type": "code",
   "execution_count": 9,
   "metadata": {},
   "outputs": [
    {
     "name": "stdout",
     "output_type": "stream",
     "text": [
      "O hexadecimal 3FC92B6 em binário é 0011111111001001001010110110 e como temos que Tag= 11.0 bits, Linha= 12.0 bits e Byte= 5.0 bits o valor binário da linha é 010010010101\n"
     ]
    }
   ],
   "source": [
    "#Analisando a questão temos:\n",
    "#MC com capacidade de 128KB= 2^7.2^10= 2^17\n",
    "#Endereço expresso em algarismos hexadecimais: 3FC92B6\n",
    "#Largura de 32 bytes\n",
    "MC= 2**17\n",
    "Largura= 32\n",
    "E= 7*4\n",
    "MP= 2**E\n",
    "Número_de_blocos= MP/Largura\n",
    "Número_de_linhas= MC/Largura\n",
    "Blocos_por_linhas= Número_de_blocos/Número_de_linhas\n",
    "Tag= math.log2(Blocos_por_linhas)\n",
    "Linha= math.log2(Número_de_linhas)\n",
    "Byte= math.log2(Largura)\n",
    "print(\"O hexadecimal 3FC92B6 em binário é 0011111111001001001010110110 e como temos que Tag=\",Tag,\"bits, Linha=\",Linha,\"bits e Byte=\",Byte,\"bits o valor binário da linha é 010010010101\")"
   ]
  },
  {
   "cell_type": "markdown",
   "metadata": {},
   "source": [
    "**5.5) Cálculo da quantidade de bits necessários para uma determinada memória\n",
    "cache. Considere um sistema de computação com uma memória cache de 32KB\n",
    "de capacidade, constituída de linhas com 8 bytes de largura. A MP possui uma\n",
    "capacidade de 16MB.**"
   ]
  },
  {
   "cell_type": "code",
   "execution_count": 10,
   "metadata": {},
   "outputs": [
    {
     "name": "stdout",
     "output_type": "stream",
     "text": [
      "o total de bits da cache é 348160.0 ou 340K bits\n"
     ]
    }
   ],
   "source": [
    "#Analisando a questão temos:\n",
    "#MC com capacidade de 32KB= 2^5.2^10= 2^15\n",
    "#MP com capacidade de 16MB= 2^4.2^20= 2^24\n",
    "#Largura de 8 bytes\n",
    "MC= 2**15 \n",
    "MP= 2**24\n",
    "Largura= 8\n",
    "Número_de_linhas= MC/Largura\n",
    "Número_de_blocos= MP/Largura\n",
    "Byte= math.log2(Largura)\n",
    "Bloco= math.log2(Número_de_blocos)\n",
    "Td= Número_de_linhas*Largura*8\n",
    "Tb= Número_de_linhas*Bloco\n",
    "Total_de_bits_da_cache= Td+Tb\n",
    "print(\"o total de bits da cache é\",Total_de_bits_da_cache,\"ou 340K bits\")"
   ]
  },
  {
   "cell_type": "markdown",
   "metadata": {},
   "source": [
    "**5.6) Cálculo de formato de endereço para memórias cache com mapeamento\n",
    "associativo completo. Considere um MP com 64MB de capacidade associada a\n",
    "uma memória cache que possui 2K linhas, cada uma com largura de 16 bytes.\n",
    "Determine o formato do endereço para ser interpretado pelo sistema de controle\n",
    "da cache.**"
   ]
  },
  {
   "cell_type": "code",
   "execution_count": 11,
   "metadata": {},
   "outputs": [
    {
     "name": "stdout",
     "output_type": "stream",
     "text": [
      "O formato do endereço para ser interpretado pelo sistema de controle da cache é Bloco= 22.0 bits e Byte= 4.0 bits.\n"
     ]
    }
   ],
   "source": [
    "#Analisando a questão temos:\n",
    "#MP com capacidade de 64MB= 2^6.2^20= 2^26\n",
    "#2K linhas= 2.2^10=2^11\n",
    "#Largura de 16 bytes\n",
    "#O formato do endereço que será interpretado é |BLOCO|BYTE\n",
    "import math\n",
    "MP= 2**26\n",
    "Largura= 16\n",
    "Número_de_linhas= 2**11\n",
    "Número_de_blocos= MP/Largura\n",
    "Blocos_por_linha= Número_de_blocos*Número_de_linhas\n",
    "Bloco= math.log2(Número_de_blocos)\n",
    "Byte= math.log2(Largura)\n",
    "print(\"O formato do endereço para ser interpretado pelo sistema de controle da cache é Bloco=\",Bloco,\"bits e Byte=\",Byte,\"bits.\")"
   ]
  },
  {
   "cell_type": "markdown",
   "metadata": {},
   "source": [
    "**5.7) Seja um MP constituída de blocos com largura de 32 bytes, associada a uma\n",
    "cache com 64KB. Em dado instante o processador realiza um acesso, colocando\n",
    "o seguinte endereço (expresso em algarismos hexadecimais): 3FC92B6.\n",
    "Determine qual deverá ser o valor binário da linha que será localizada pelo\n",
    "sistema de controle da cache.**"
   ]
  },
  {
   "cell_type": "code",
   "execution_count": 12,
   "metadata": {},
   "outputs": [
    {
     "name": "stdout",
     "output_type": "stream",
     "text": [
      "O hexadecimal 3FC92B6 em binário é 0011111111001001001010110110 e como temos que Bloco= 23.0 bits e Byte= 5.0 bits o valor binário do campo bloco é 00111111110010010010101\n"
     ]
    }
   ],
   "source": [
    "#Analisando a questão temos:\n",
    "#MC com capacidade de 64KB= 2^6.2^10= 2^16\n",
    "#Largura de 32 bytes\n",
    "#Endereço expresso em algarismos hexadecimais: 3FC92B6\n",
    "import math \n",
    "MC= 2**16\n",
    "E= 7*4\n",
    "MP= 2**E\n",
    "Largura= 32\n",
    "Número_de_linhas= MC/Largura\n",
    "Número_de_blocos= MP/Largura\n",
    "Bloco= math.log2(Número_de_blocos)\n",
    "Byte= math.log2(Largura)\n",
    "print(\"O hexadecimal 3FC92B6 em binário é 0011111111001001001010110110 e como temos que Bloco=\",Bloco,\"bits e Byte=\",Byte,\"bits o valor binário do campo bloco é 00111111110010010010101\")"
   ]
  },
  {
   "cell_type": "markdown",
   "metadata": {},
   "source": [
    "**5.8) Cálculo da quantidade de bits necessários para uma determinada memória\n",
    "cache, que funciona com mapeamento por conjunto de quatro. Considere um\n",
    "sistema de computação com uma memória cache de 32KB de capacidade,\n",
    "constituída de linhas com 8 bytes de largura e conjunto de 4. A MP possui uma\n",
    "capacidade de 16MB.**"
   ]
  },
  {
   "cell_type": "code",
   "execution_count": 13,
   "metadata": {},
   "outputs": [
    {
     "name": "stdout",
     "output_type": "stream",
     "text": [
      "O total de bits da cache é de 307200.0 ou 300K bits\n"
     ]
    }
   ],
   "source": [
    "#Analisando a questão temos:\n",
    "#Conjunto de 4 linhas\n",
    "#Mp com capcacidade de 16MB= 2^4.2^20= 2^24\n",
    "#MC com capacidade de 32KB= 2^5.2^10= 2^15\n",
    "#Largura de 8 bytes\n",
    "import math\n",
    "MC= 2**15\n",
    "MP= 2**24\n",
    "Largura= 8\n",
    "Linhas_por_conjunto= 4\n",
    "Número_de_linhas= MC/Largura\n",
    "Número_de_blocos= MP/Largura\n",
    "Conjuntos= Número_de_linhas/Linhas_por_conjunto\n",
    "Blocos_por_conjuntos= Número_de_blocos/Conjuntos\n",
    "Tag= math.log2(Blocos_por_conjuntos)\n",
    "Td= Número_de_linhas*Largura*8\n",
    "Tt= Número_de_linhas*Tag\n",
    "Total_de_bits_da_cache= Td+Tt\n",
    "print(\"O total de bits da cache é de\",Total_de_bits_da_cache,\"ou 300K bits\")"
   ]
  },
  {
   "cell_type": "markdown",
   "metadata": {},
   "source": [
    "**5.9) Cálculo de formato de endereço para memórias cache com mapeamento\n",
    "associativo por conjunto. Considere um MP com 64MB de capacidade associada\n",
    "a uma memória cache que funciona com mapeamento associativo por conjunto\n",
    "de 4 e que possui 32KB, com linhas de largura de 16 bytes. Determine o formato\n",
    "do endereço para ser interpretado pelo sistema de controle da cache.**"
   ]
  },
  {
   "cell_type": "code",
   "execution_count": 14,
   "metadata": {},
   "outputs": [
    {
     "name": "stdout",
     "output_type": "stream",
     "text": [
      "O formato do endereço para ser interpretado pelo sistema da cache é Tag= 13.0 bits, Conjunto= 10.0 bits e Byte= 4.0 bits.\n"
     ]
    }
   ],
   "source": [
    "#Analisando a questão temos:\n",
    "#Conjunto de 4 linhas\n",
    "#MP com capcacidade de 64 MB= 2^6.2^20= 2^26\n",
    "#MC com capacidade de 32KB= 2^5.2^10= 2^15\n",
    "#Largura de 16 bytes\n",
    "#O formato do endereço que será interpretado é |TAG|CONJUNTO|BYTE|\n",
    "import math\n",
    "MP= 2**26 \n",
    "MC= 2**15\n",
    "Número_de_linhas= MC/Largura\n",
    "Número_de_blocos= MP/Largura\n",
    "Largura= 16\n",
    "Linhas_por_conjunto= 4\n",
    "Conjuntos= Número_de_linhas/Linhas_por_conjunto\n",
    "Blocos_por_conjuntos= Número_de_blocos/Conjuntos\n",
    "Tag= math.log2(Blocos_por_conjuntos)\n",
    "Conjunto= math.log2(Conjuntos)\n",
    "Byte= math.log2(Largura)\n",
    "print(\"O formato do endereço para ser interpretado pelo sistema da cache é Tag=\",Tag,\"bits, Conjunto=\",Conjunto,\"bits e Byte=\",Byte,\"bits.\")"
   ]
  },
  {
   "cell_type": "markdown",
   "metadata": {},
   "source": [
    "**5.10) Seja um MP constituída de blocos com largura de 32 bytes, associada a\n",
    "uma cache com 64KB; a cache usa mapeamento por conjunto de 4. Em dado\n",
    "instante o processador realiza um acesso, colocando o seguinte endereço\n",
    "(expresso em algarismos hexadecimais): 3FC92B6. Determine qual deverá ser o\n",
    "valor binário da linha que será localizada pelo sistema de controle da cache.**"
   ]
  },
  {
   "cell_type": "code",
   "execution_count": 15,
   "metadata": {},
   "outputs": [
    {
     "name": "stdout",
     "output_type": "stream",
     "text": [
      "O hexadecimal 3FC92B6 em binário é 0011111111001001001010110110 e como temos que Tag= 14.0 bits, Conjunto= 9.0 bits e Byte= 5.0 bits o valor binário do conjunto é 010010101\n"
     ]
    }
   ],
   "source": [
    "#Analisando a questão temos:\n",
    "#Conjunto de 4 linhas\n",
    "#MC com capacidade de 64KB= 2^6.2^10= 2^16\n",
    "#Largura de 32 bytes\n",
    "#Endereço expresso em algarismos hexadecimais: 3FC92B6\n",
    "import math\n",
    "MC= 2**16\n",
    "E= 7*4\n",
    "MP= 2**E\n",
    "Linhas_por_conjunto= 4\n",
    "Largura= 32\n",
    "Número_de_linhas= MC/Largura\n",
    "Número_de_blocos= MP/Largura\n",
    "Conjuntos= Número_de_linhas/Linhas_por_conjunto\n",
    "Blocos_por_conjuntos= Número_de_blocos/Conjuntos\n",
    "Tag= math.log2(Blocos_por_conjuntos)\n",
    "Conjunto= math.log2(Conjuntos)\n",
    "Byte= math.log2(Largura)\n",
    "print(\"O hexadecimal 3FC92B6 em binário é 0011111111001001001010110110 e como temos que Tag=\",Tag,\"bits, Conjunto=\",Conjunto,\"bits e Byte=\",Byte,\"bits o valor binário do conjunto é 010010101\")"
   ]
  },
  {
   "cell_type": "code",
   "execution_count": null,
   "metadata": {},
   "outputs": [],
   "source": []
  }
 ],
 "metadata": {
  "kernelspec": {
   "display_name": "Python 3",
   "language": "python",
   "name": "python3"
  },
  "language_info": {
   "codemirror_mode": {
    "name": "ipython",
    "version": 3
   },
   "file_extension": ".py",
   "mimetype": "text/x-python",
   "name": "python",
   "nbconvert_exporter": "python",
   "pygments_lexer": "ipython3",
   "version": "3.6.13"
  }
 },
 "nbformat": 4,
 "nbformat_minor": 2
}
